{
 "cells": [
  {
   "cell_type": "markdown",
   "id": "b3ca986f-645c-4bbd-9636-9b201c120b0c",
   "metadata": {},
   "source": [
    "# __Ques 1__\n",
    "__GET__ methods are way to send the data in url the data sended is clearly visible in url hence its also not secure. <br>\n",
    "__POST__ methods are a way to send data in the body of the request hence the data sent is hidden and secure."
   ]
  },
  {
   "cell_type": "markdown",
   "id": "150ee7c8-99f9-4bf7-84d2-b02ef3977864",
   "metadata": {},
   "source": [
    "# __Ques 2__\n",
    "In Flask, the request object is used to access incoming request data, which is information that a client sends to a server when requesting a resource.\n",
    "<br>\n",
    "The request object allows Flask applications to extract information from the client's request,This information can then be used to generate a response or to perform further processing on the server side.<br>\n",
    "the request object is an essential component of Flask because it allows Flask applications to handle incoming requests and extract data from them, enabling the server to provide the necessary response to the client."
   ]
  },
  {
   "cell_type": "markdown",
   "id": "1a3deeb4-3537-4822-9346-7c89d48d495f",
   "metadata": {},
   "source": [
    "# __Ques 3__\n",
    "In Flask, the redirect() function is used to redirect the user's browser to a different URL"
   ]
  },
  {
   "cell_type": "markdown",
   "id": "d3630afd-706b-49c1-89d7-50b8f269974b",
   "metadata": {},
   "source": [
    "# __Ques 4__\n",
    "In Flask, __templates__ are used to generate dynamic HTML pages that can be customized based on the data being passed to them. Templates allow you to separate the presentation logic from the business logic, making it easier to maintain and modify your web application.<br>\n",
    "The __render_template()__ function is used to render a template in Flask. This function takes the name of the template as its first argument and any additional arguments that need to be passed to the template"
   ]
  },
  {
   "cell_type": "markdown",
   "id": "8f6608ac-46a2-4aac-b5be-23f769364411",
   "metadata": {},
   "source": [
    "# __Ques 5__"
   ]
  },
  {
   "cell_type": "code",
   "execution_count": 9,
   "id": "b6799916-40ee-42ac-aa0c-1a2528572746",
   "metadata": {},
   "outputs": [
    {
     "name": "stdout",
     "output_type": "stream",
     "text": [
      "Requirement already satisfied: flask in /opt/conda/lib/python3.10/site-packages (2.2.3)\n",
      "Requirement already satisfied: Werkzeug>=2.2.2 in /opt/conda/lib/python3.10/site-packages (from flask) (2.2.3)\n",
      "Requirement already satisfied: itsdangerous>=2.0 in /opt/conda/lib/python3.10/site-packages (from flask) (2.1.2)\n",
      "Requirement already satisfied: click>=8.0 in /opt/conda/lib/python3.10/site-packages (from flask) (8.1.3)\n",
      "Requirement already satisfied: Jinja2>=3.0 in /opt/conda/lib/python3.10/site-packages (from flask) (3.1.2)\n",
      "Requirement already satisfied: MarkupSafe>=2.0 in /opt/conda/lib/python3.10/site-packages (from Jinja2>=3.0->flask) (2.1.1)\n",
      "Note: you may need to restart the kernel to use updated packages.\n"
     ]
    }
   ],
   "source": [
    "pip install flask"
   ]
  },
  {
   "cell_type": "code",
   "execution_count": 10,
   "id": "84410506-819b-4354-884d-42be2b8f3b39",
   "metadata": {},
   "outputs": [],
   "source": [
    "from flask import Flask , request , jsonify"
   ]
  },
  {
   "cell_type": "code",
   "execution_count": null,
   "id": "c4a6a446-3bb2-4902-9037-0c3c5b101b99",
   "metadata": {},
   "outputs": [
    {
     "name": "stdout",
     "output_type": "stream",
     "text": [
      " * Serving Flask app '__main__'\n",
      " * Debug mode: off\n"
     ]
    },
    {
     "name": "stderr",
     "output_type": "stream",
     "text": [
      "WARNING: This is a development server. Do not use it in a production deployment. Use a production WSGI server instead.\n",
      " * Running on all addresses (0.0.0.0)\n",
      " * Running on http://127.0.0.1:5000\n",
      " * Running on http://172.18.0.10:5000\n",
      "Press CTRL+C to quit\n",
      "172.18.0.2 - - [20/Feb/2023 17:46:08] \"POST / HTTP/1.1\" 200 -\n"
     ]
    }
   ],
   "source": [
    "app = Flask(__name__)\n",
    "\n",
    "@app.route(\"/\",methods=['POST'])\n",
    "def hello():\n",
    "    name = request.json['name']\n",
    "    result = \"hello ,\" + name\n",
    "    return jsonify(result)\n",
    "\n",
    "if __name__ == \"__main__\":\n",
    "    app.run(host=\"0.0.0.0\")"
   ]
  },
  {
   "cell_type": "markdown",
   "id": "c5a05380-89fe-4cc3-87e1-766ecfd1dd16",
   "metadata": {},
   "source": [
    "<img src=\"postman.png\" alt=\"Postman Image\">"
   ]
  }
 ],
 "metadata": {
  "kernelspec": {
   "display_name": "Python 3 (ipykernel)",
   "language": "python",
   "name": "python3"
  },
  "language_info": {
   "codemirror_mode": {
    "name": "ipython",
    "version": 3
   },
   "file_extension": ".py",
   "mimetype": "text/x-python",
   "name": "python",
   "nbconvert_exporter": "python",
   "pygments_lexer": "ipython3",
   "version": "3.10.8"
  }
 },
 "nbformat": 4,
 "nbformat_minor": 5
}
